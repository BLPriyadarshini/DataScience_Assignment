{
 "cells": [
  {
   "cell_type": "code",
   "execution_count": 1,
   "metadata": {},
   "outputs": [],
   "source": [
    "# Import necessary libraries\n",
    "import pandas as pd\n",
    "from sklearn.metrics.pairwise import cosine_similarity\n",
    "from sklearn.preprocessing import StandardScaler"
   ]
  },
  {
   "cell_type": "code",
   "execution_count": 2,
   "metadata": {},
   "outputs": [],
   "source": [
    "# Load datasets\n",
    "customers = pd.read_csv(\"../data/Customers.csv\")\n",
    "transactions = pd.read_csv(\"../data/Transactions.csv\")"
   ]
  },
  {
   "cell_type": "code",
   "execution_count": 3,
   "metadata": {},
   "outputs": [],
   "source": [
    "# Merge datasets\n",
    "data = pd.merge(transactions, customers, on=\"CustomerID\")"
   ]
  },
  {
   "cell_type": "code",
   "execution_count": 4,
   "metadata": {},
   "outputs": [],
   "source": [
    "# Feature engineering: Aggregate customer data\n",
    "customer_summary = data.groupby('CustomerID').agg({\n",
    "    'TotalValue': 'sum', \n",
    "    'Quantity': 'sum'\n",
    "}).reset_index()\n"
   ]
  },
  {
   "cell_type": "code",
   "execution_count": 5,
   "metadata": {},
   "outputs": [],
   "source": [
    "# Normalize data for similarity calculation\n",
    "scaler = StandardScaler()\n",
    "normalized_data = scaler.fit_transform(customer_summary[['TotalValue', 'Quantity']])"
   ]
  },
  {
   "cell_type": "code",
   "execution_count": 6,
   "metadata": {},
   "outputs": [],
   "source": [
    "# Compute cosine similarity\n",
    "similarity_matrix = cosine_similarity(normalized_data)"
   ]
  },
  {
   "cell_type": "code",
   "execution_count": 7,
   "metadata": {},
   "outputs": [],
   "source": [
    "# Create a DataFrame for similarity scores\n",
    "similarity_df = pd.DataFrame(\n",
    "    similarity_matrix, \n",
    "    index=customer_summary['CustomerID'], \n",
    "    columns=customer_summary['CustomerID']\n",
    ")\n"
   ]
  },
  {
   "cell_type": "code",
   "execution_count": 8,
   "metadata": {},
   "outputs": [],
   "source": [
    "# Generate lookalikes for the first 20 customers\n",
    "lookalikes = {}\n",
    "for customer in similarity_df.index[:20]:  # For the first 20 customers\n",
    "    similar_customers = similarity_df.loc[customer].sort_values(ascending=False)[1:4]  # Top 3 excluding self\n",
    "    lookalikes[customer] = [(cust_id, round(score, 4)) for cust_id, score in similar_customers.items()]\n"
   ]
  },
  {
   "cell_type": "code",
   "execution_count": 9,
   "metadata": {},
   "outputs": [],
   "source": [
    "# Convert lookalikes dictionary into a DataFrame\n",
    "lookalikes_list = []\n",
    "for customer_id, similar_customers in lookalikes.items():\n",
    "    for similar_customer, score in similar_customers:\n",
    "        lookalikes_list.append({\n",
    "            \"CustomerID\": customer_id,\n",
    "            \"SimilarCustomerID\": similar_customer,\n",
    "            \"SimilarityScore\": score\n",
    "        })\n",
    "\n",
    "lookalikes_df = pd.DataFrame(lookalikes_list)"
   ]
  },
  {
   "cell_type": "code",
   "execution_count": 10,
   "metadata": {},
   "outputs": [
    {
     "name": "stdout",
     "output_type": "stream",
     "text": [
      "Top 3 lookalikes for the first 20 customers:\n",
      "   CustomerID SimilarCustomerID  SimilarityScore\n",
      "0       C0001             C0085           1.0000\n",
      "1       C0001             C0042           0.9998\n",
      "2       C0001             C0089           0.9998\n",
      "3       C0002             C0157           1.0000\n",
      "4       C0002             C0166           0.9999\n",
      "5       C0002             C0029           0.9998\n",
      "6       C0003             C0111           0.9940\n",
      "7       C0003             C0160           0.9905\n",
      "8       C0003             C0147           0.9876\n",
      "9       C0004             C0162           1.0000\n",
      "10      C0004             C0165           1.0000\n",
      "11      C0004             C0090           0.9986\n",
      "12      C0005             C0080           1.0000\n",
      "13      C0005             C0167           1.0000\n",
      "14      C0005             C0177           0.9999\n",
      "15      C0006             C0079           1.0000\n",
      "16      C0006             C0117           0.9957\n",
      "17      C0006             C0196           0.9903\n",
      "18      C0007             C0146           1.0000\n",
      "19      C0007             C0125           0.9998\n",
      "20      C0007             C0061           0.9997\n",
      "21      C0008             C0109           0.9998\n",
      "22      C0008             C0136           0.9995\n",
      "23      C0008             C0124           0.9989\n",
      "24      C0009             C0015           1.0000\n",
      "25      C0009             C0131           1.0000\n",
      "26      C0009             C0193           1.0000\n",
      "27      C0010             C0176           0.9977\n",
      "28      C0010             C0027           0.9934\n",
      "29      C0010             C0030           0.9784\n",
      "30      C0011             C0139           0.9996\n",
      "31      C0011             C0100           0.9992\n",
      "32      C0011             C0023           0.9982\n",
      "33      C0012             C0101           1.0000\n",
      "34      C0012             C0156           0.9999\n",
      "35      C0012             C0093           0.9998\n",
      "36      C0013             C0067           0.9999\n",
      "37      C0013             C0138           0.9998\n",
      "38      C0013             C0141           0.9998\n",
      "39      C0014             C0192           1.0000\n",
      "40      C0014             C0159           1.0000\n",
      "41      C0014             C0186           1.0000\n",
      "42      C0015             C0009           1.0000\n",
      "43      C0015             C0131           1.0000\n",
      "44      C0015             C0120           1.0000\n",
      "45      C0016             C0154           0.9994\n",
      "46      C0016             C0040           0.9961\n",
      "47      C0016             C0026           0.9939\n",
      "48      C0017             C0075           1.0000\n",
      "49      C0017             C0179           0.9998\n",
      "50      C0017             C0039           0.9997\n",
      "51      C0018             C0045           1.0000\n",
      "52      C0018             C0041           0.9998\n",
      "53      C0018             C0068           0.9994\n",
      "54      C0019             C0142           0.9999\n",
      "55      C0019             C0174           0.9999\n",
      "56      C0019             C0055           0.9994\n",
      "57      C0020             C0058           1.0000\n",
      "58      C0020             C0193           1.0000\n",
      "59      C0020             C0198           1.0000\n"
     ]
    }
   ],
   "source": [
    "# Save the lookalikes to a CSV file\n",
    "lookalikes_df.to_csv(\"../outputs/LalithaPriyadarshini_Baswapatri_Lookalike.csv\", index=False)\n",
    "\n",
    "# Display the lookalikes for verification\n",
    "print(\"Top 3 lookalikes for the first 20 customers:\")\n",
    "print(lookalikes_df)"
   ]
  }
 ],
 "metadata": {
  "colab": {
   "provenance": []
  },
  "kernelspec": {
   "display_name": "Python 3",
   "name": "python3"
  },
  "language_info": {
   "codemirror_mode": {
    "name": "ipython",
    "version": 3
   },
   "file_extension": ".py",
   "mimetype": "text/x-python",
   "name": "python",
   "nbconvert_exporter": "python",
   "pygments_lexer": "ipython3",
   "version": "3.12.6"
  }
 },
 "nbformat": 4,
 "nbformat_minor": 0
}
